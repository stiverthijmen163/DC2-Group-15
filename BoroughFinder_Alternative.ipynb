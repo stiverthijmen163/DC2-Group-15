{
 "cells": [
  {
   "cell_type": "code",
   "execution_count": null,
   "id": "initial_id",
   "metadata": {
    "collapsed": true
   },
   "outputs": [],
   "source": [
    "import sqlite3\n",
    "import pandas as pd\n",
    "\n",
    "# Create a connection to the SQLite database\n",
    "conn = sqlite3.connect('police_data.db')\n",
    "\n",
    "#Create a dataframe for stop and search\n",
    "stop_and_search_df = pd.read_sql_query(\"SELECT * from stop_and_search\", conn)\n",
    "\n",
    "# Close the connection\n",
    "conn.close()"
   ]
  },
  {
   "cell_type": "code",
   "outputs": [],
   "source": [
    "import pandas as pd\n",
    "import geopandas as gpd\n",
    "from shapely.geometry import Point\n",
    "\n",
    "\n",
    "# Drop NaN values of latitude and longitude\n",
    "stop_and_search_df.dropna(subset=['latitude', 'longitude'], inplace=True)\n",
    "\n",
    "# Load borough boundaries\n",
    "borough_boundaries = gpd.read_file(\"london_boroughs.geojson\")\n",
    "\n",
    "# Exclude City of London as we dont need it\n",
    "borough_boundaries = borough_boundaries[borough_boundaries['name'] != 'City of London']\n",
    "\n",
    "# Create Points from latitude and longitude for each row.\n",
    "stop_and_search_df['Point'] = stop_and_search_df.apply(lambda x: Point(x['longitude'], x['latitude']), axis=1)\n",
    "\n",
    "# Create Geometries from the points\n",
    "points_gdf = gpd.GeoDataFrame({'geometry': stop_and_search_df['Point']}, crs=\"EPSG:4326\")\n",
    "\n",
    "# Create borough column\n",
    "stop_and_search_df[\"Borough\"] = None\n",
    "\n",
    "# Assign borough to each point\n",
    "for i in range(len(borough_boundaries)):\n",
    "    mask = points_gdf.within(borough_boundaries.iloc[i]['geometry'])\n",
    "    stop_and_search_df.loc[mask, \"Borough\"] = borough_boundaries.iloc[i]['name']\n",
    "\n",
    "# Drop 'Point' column\n",
    "stop_and_search_df.drop('Point', axis=1, inplace=True)\n",
    "\n",
    "# Drop rows without a borough\n",
    "stop_and_search_df.dropna(subset=['Borough'], inplace=True)\n"
   ],
   "metadata": {
    "collapsed": false
   },
   "id": "7ed9f5dad5f55d52"
  }
 ],
 "metadata": {
  "kernelspec": {
   "display_name": "Python 3",
   "language": "python",
   "name": "python3"
  },
  "language_info": {
   "codemirror_mode": {
    "name": "ipython",
    "version": 2
   },
   "file_extension": ".py",
   "mimetype": "text/x-python",
   "name": "python",
   "nbconvert_exporter": "python",
   "pygments_lexer": "ipython2",
   "version": "2.7.6"
  }
 },
 "nbformat": 4,
 "nbformat_minor": 5
}
